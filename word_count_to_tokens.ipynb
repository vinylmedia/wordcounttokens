{
  "nbformat": 4,
  "nbformat_minor": 0,
  "metadata": {
    "colab": {
      "provenance": [],
      "authorship_tag": "ABX9TyP1dvFA7tjfEGdwPd63zEqZ",
      "include_colab_link": true
    },
    "kernelspec": {
      "name": "python3",
      "display_name": "Python 3"
    },
    "language_info": {
      "name": "python"
    }
  },
  "cells": [
    {
      "cell_type": "markdown",
      "metadata": {
        "id": "view-in-github",
        "colab_type": "text"
      },
      "source": [
        "<a href=\"https://colab.research.google.com/github/vinylmedia/wordcounttokens/blob/main/word_count_to_tokens.ipynb\" target=\"_parent\"><img src=\"https://colab.research.google.com/assets/colab-badge.svg\" alt=\"Open In Colab\"/></a>"
      ]
    },
    {
      "cell_type": "code",
      "execution_count": null,
      "metadata": {
        "id": "pbxcwcT505Z0"
      },
      "outputs": [],
      "source": [
        "# prompt: I need to be able to upload a text file and have the word count in the document converted to a token count for tokenization.\n",
        "\n",
        "import re\n",
        "from google.colab import files\n",
        "\n",
        "def word_to_token_count(text):\n",
        "  # Remove punctuation and convert to lowercase\n",
        "  text = re.sub(r'[^\\w\\s]', '', text).lower()\n",
        "\n",
        "  # Split the text into words\n",
        "  words = text.split()\n",
        "\n",
        "  # Return the number of words\n",
        "  return len(words)\n",
        "\n",
        "uploaded = files.upload()\n",
        "\n",
        "for fn in uploaded.keys():\n",
        "  # Read the contents of the uploaded file\n",
        "  with open(fn, 'r') as f:\n",
        "    text = f.read()\n",
        "\n",
        "  # Calculate the token count\n",
        "  token_count = word_to_token_count(text)\n",
        "\n",
        "  # Print the token count\n",
        "  print('Token count:', token_count)\n"
      ]
    }
  ]
}