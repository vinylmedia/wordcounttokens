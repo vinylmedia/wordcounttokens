{
  "nbformat": 4,
  "nbformat_minor": 0,
  "metadata": {
    "colab": {
      "provenance": [],
      "authorship_tag": "ABX9TyPOxK+gcybBB5Xxbw6VZosv",
      "include_colab_link": true
    },
    "kernelspec": {
      "name": "python3",
      "display_name": "Python 3"
    },
    "language_info": {
      "name": "python"
    }
  },
  "cells": [
    {
      "cell_type": "markdown",
      "metadata": {
        "id": "view-in-github",
        "colab_type": "text"
      },
      "source": [
        "<a href=\"https://colab.research.google.com/github/vinylmedia/wordcounttokens/blob/main/wordcount_textcombiner_tokenizer.ipynb\" target=\"_parent\"><img src=\"https://colab.research.google.com/assets/colab-badge.svg\" alt=\"Open In Colab\"/></a>"
      ]
    },
    {
      "cell_type": "code",
      "source": [
        "# Install the google-colab module\n",
        "!pip install google-colab\n",
        "\n",
        "# Import the required modules\n",
        "from google.colab import files\n",
        "import os\n",
        "\n",
        "# Upload the files\n",
        "uploaded = files.upload()\n",
        "\n",
        "# Combine the uploaded files into a single string\n",
        "combined_text = \"\"\n",
        "for filename, content in uploaded.items():\n",
        "  combined_text += content.decode(\"utf-8\")\n",
        "\n",
        "# Save the combined text to a file\n",
        "with open(\"combined.txt\", \"w\") as f:\n",
        "  f.write(combined_text)\n",
        "\n",
        "# Check if the file exists\n",
        "if not os.path.exists(\"combined.txt\"):\n",
        "  raise FileNotFoundError(\"File not found: combined.txt\")\n",
        "\n",
        "# Download the combined text as a new text file\n",
        "files.download(\"combined.txt\")"
      ],
      "metadata": {
        "id": "ORc6iqd7939c"
      },
      "execution_count": null,
      "outputs": []
    },
    {
      "cell_type": "code",
      "source": [
        "from google.colab import files\n",
        "import re\n",
        "\n",
        "uploaded = files.upload()\n",
        "filename = list(uploaded.keys())[0]\n",
        "\n",
        "with open(filename, 'r') as f:\n",
        "  text = f.read()\n",
        "\n",
        "word_count = len(re.findall(r'\\w+', text))\n",
        "tokens = text.split()\n",
        "token_count = len(tokens)\n",
        "\n",
        "max_tokens = 4000\n",
        "words_to_remove = word_count - (max_tokens / token_count)\n",
        "total_pages = 5 # Replace with the actual number of pages in your document\n",
        "words_per_page = word_count / total_pages\n",
        "pages_to_remove = words_to_remove / words_per_page\n",
        "\n",
        "print(f\"Word count: {word_count}\")\n",
        "print(f\"Token count: {token_count}\")\n",
        "print(f\"Words to remove: {words_to_remove}\")\n",
        "print(f\"Pages to remove: {pages_to_remove}\")\n",
        "\n",
        "# Split the text into sections of 4000 tokens\n",
        "sections = []\n",
        "current_section = []\n",
        "current_token_count = 0\n",
        "\n",
        "for token in tokens:\n",
        "  current_section.append(token)\n",
        "  current_token_count += 1\n",
        "  if current_token_count >= max_tokens:\n",
        "    sections.append(' '.join(current_section))\n",
        "    current_section = []\n",
        "    current_token_count = 0\n",
        "\n",
        "# Download the split text files\n",
        "for i, section in enumerate(sections):\n",
        "  filename = f'section_{i+1}.txt'\n",
        "  files.download(filename, section)\n",
        "\n",
        "print(f\"Successfully split the text file into {len(sections)} sections.\")"
      ],
      "metadata": {
        "id": "LLMHm7do9m35"
      },
      "execution_count": null,
      "outputs": []
    }
  ]
}